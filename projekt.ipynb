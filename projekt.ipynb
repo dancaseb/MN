{
 "cells": [
  {
   "cell_type": "code",
   "execution_count": 1,
   "metadata": {
    "collapsed": true
   },
   "outputs": [],
   "source": [
    "import numpy as np\n",
    "from matplotlib import pyplot as plt\n",
    "import sys\n",
    "from kalman import *\n",
    "from animation import *"
   ]
  },
  {
   "cell_type": "code",
   "execution_count": 7,
   "outputs": [],
   "source": [
    "class Model1(Model):\n",
    "    def Ak(self, k):\n",
    "        return (np.array([[1, 0, self.D, 0],\n",
    "                          [0, 1, 0, self.D],\n",
    "                          [0, 0, 1, 0],\n",
    "                          [0, 0, 0, 1]]))\n",
    "\n",
    "    def Bk(self, k):\n",
    "        return (np.array([[0, 0],\n",
    "                          [0, 0],\n",
    "                          [self.D, 0],\n",
    "                          [0, self.D]]))\n",
    "\n",
    "    def Hk(self, k):\n",
    "        return (np.array([[1, 0, 0, 0],\n",
    "                          [0, 1, 0, 0]]))\n",
    "\n",
    "    def Qk(self, k):\n",
    "        return (0.01 * np.eye(4))\n",
    "\n",
    "    def Rk(self, k):\n",
    "        return (0.001 * np.eye(2))\n",
    "\n",
    "    def Uk(self, k):\n",
    "        return (np.array([0, -9.81]))\n",
    "\n",
    "\n",
    "M1 = Model1()\n",
    "M1.set_D(0.1)\n",
    "S1 = System(M1, np.array([0, 20, 5, 5]))\n",
    "\n",
    "S1.run(20)\n",
    "\n"
   ],
   "metadata": {
    "collapsed": false
   }
  },
  {
   "cell_type": "code",
   "execution_count": 9,
   "outputs": [
    {
     "ename": "AttributeError",
     "evalue": "'Animator' object has no attribute 'start_animation'",
     "output_type": "error",
     "traceback": [
      "\u001B[1;31m---------------------------------------------------------------------------\u001B[0m",
      "\u001B[1;31mAttributeError\u001B[0m                            Traceback (most recent call last)",
      "Cell \u001B[1;32mIn[9], line 2\u001B[0m\n\u001B[0;32m      1\u001B[0m animation \u001B[38;5;241m=\u001B[39m Animator(S1\u001B[38;5;241m.\u001B[39mtracex)\n\u001B[1;32m----> 2\u001B[0m \u001B[43manimation\u001B[49m\u001B[38;5;241;43m.\u001B[39;49m\u001B[43mstart_animation\u001B[49m()\n",
      "\u001B[1;31mAttributeError\u001B[0m: 'Animator' object has no attribute 'start_animation'"
     ]
    }
   ],
   "source": [
    "animation = Animator(S1.tracex)\n",
    "animation.start_animation()"
   ],
   "metadata": {
    "collapsed": false
   }
  },
  {
   "cell_type": "code",
   "execution_count": null,
   "outputs": [],
   "source": [],
   "metadata": {
    "collapsed": false
   }
  }
 ],
 "metadata": {
  "kernelspec": {
   "display_name": "Python 3",
   "language": "python",
   "name": "python3"
  },
  "language_info": {
   "codemirror_mode": {
    "name": "ipython",
    "version": 2
   },
   "file_extension": ".py",
   "mimetype": "text/x-python",
   "name": "python",
   "nbconvert_exporter": "python",
   "pygments_lexer": "ipython2",
   "version": "2.7.6"
  }
 },
 "nbformat": 4,
 "nbformat_minor": 0
}
