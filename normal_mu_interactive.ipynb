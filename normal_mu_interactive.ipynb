{
 "cells": [
  {
   "cell_type": "markdown",
   "id": "167ae6a3-1358-4e71-a967-57946800d0f2",
   "metadata": {},
   "source": [
    "### Bayesovský odhad střední hodnoty normálního rozdělení se známým rozptylem "
   ]
  },
  {
   "cell_type": "code",
   "execution_count": 21,
   "id": "01df49ab-48ca-4d9c-81fa-a30b6f51176d",
   "metadata": {},
   "outputs": [],
   "source": [
    "import numpy as np\n",
    "from matplotlib import pyplot as plt\n",
    "from scipy.stats import norm"
   ]
  },
  {
   "cell_type": "code",
   "execution_count": 22,
   "id": "589402fd-d702-463a-b4c4-68be220b9a2f",
   "metadata": {},
   "outputs": [],
   "source": [
    "import ipywidgets as widgets\n",
    "from ipywidgets import interact"
   ]
  },
  {
   "cell_type": "code",
   "execution_count": 23,
   "id": "b27f7ecb-cead-486f-b203-a3e989840377",
   "metadata": {},
   "outputs": [],
   "source": [
    "def posterior(mpr, s2pr, s2T, x):\n",
    "    \"\"\"\n",
    "    returns posterior parametes (mean, variance)\n",
    "    mpr: prior mean parameter\n",
    "    s2pr: prior variance parameter\n",
    "    s2T: true variance of data\n",
    "    x: data\n",
    "    \"\"\"\n",
    "    t = len(x) # number of data\n",
    "    s2po = (1./s2pr+t/s2T)**(-1)  # posterior variance\n",
    "    mpo = (mpr/s2pr+np.sum(x)/s2T)*s2po  # posterior mean\n",
    "    return mpo, s2po\n"
   ]
  },
  {
   "cell_type": "code",
   "execution_count": 24,
   "id": "f1b722e3-6867-4a2b-aa4c-e58fa66befdd",
   "metadata": {},
   "outputs": [],
   "source": [
    "mTrue = 5     # true mean\n",
    "s2True = 10   # true variance \n",
    "N = 100   # number of data\n",
    "np.random.seed(12345)\n",
    "data = np.random.normal(mTrue, s2True**0.5, size=N) # data\n"
   ]
  },
  {
   "cell_type": "code",
   "execution_count": 25,
   "id": "f079f871-85b6-4a99-ba4b-a9b80687205b",
   "metadata": {},
   "outputs": [
    {
     "data": {
      "application/vnd.jupyter.widget-view+json": {
       "model_id": "78dfbf62376b47dc96e10a2a63c4f1b1",
       "version_major": 2,
       "version_minor": 0
      },
      "text/plain": [
       "interactive(children=(IntSlider(value=0, description='n'), FloatSlider(value=-5.0, description='mPr', max=20.0…"
      ]
     },
     "metadata": {},
     "output_type": "display_data"
    }
   ],
   "source": [
    "@interact(n=(0, 100, 1), mPr=(-20, 20, 0.1), sPr=(0.01, 30, 0.1))\n",
    "def plot_posterior(n=0, mPr=-5, sPr=30):\n",
    "    # parametry normalniho apriorniho rozdeleni\n",
    "\n",
    "    #mPr  = -5\n",
    "    #s2Pr = 1000\n",
    "    s2Pr=sPr**2\n",
    "    mPo, s2Po = posterior(mPr, s2Pr, s2True, data[0:n])\n",
    "\n",
    "    xs = np.linspace(-30, 30, 500)\n",
    "    plt.figure(figsize=(15, 5))\n",
    "    \n",
    "    plt.subplot(121)\n",
    "    plt.plot(xs, norm.pdf(xs, loc=mPr, scale=s2Pr**0.5), 'b', label='prior pdf')\n",
    "    plt.plot(xs, norm.pdf(xs, loc=mPo, scale=s2Po**0.5), 'r', label='posterior pdf')\n",
    "    plt.xlim(-30, 30)\n",
    "    plt.ylim(0, 0.5)\n",
    "    plt.legend()\n",
    "    \n",
    "    plt.subplot(122)\n",
    "    plt.plot(xs, norm.pdf(xs, loc=mTrue, scale=s2True**0.5), color='orange', label='true pdf')\n",
    "    plt.plot(xs, norm.pdf(xs, loc=mPo, scale=(s2Po+s2True)**0.5), 'g', label='predictive pdf')\n",
    "    plt.xlim(-5, 15)\n",
    "    plt.ylim(0, 0.5)\n",
    "    plt.legend()"
   ]
  },
  {
   "cell_type": "code",
   "execution_count": null,
   "id": "e7c6b576-1089-458f-812e-c15f22fc4d1d",
   "metadata": {},
   "outputs": [],
   "source": []
  }
 ],
 "metadata": {
  "kernelspec": {
   "display_name": "Python 3 (ipykernel)",
   "language": "python",
   "name": "python3"
  },
  "language_info": {
   "codemirror_mode": {
    "name": "ipython",
    "version": 3
   },
   "file_extension": ".py",
   "mimetype": "text/x-python",
   "name": "python",
   "nbconvert_exporter": "python",
   "pygments_lexer": "ipython3",
   "version": "3.8.10"
  }
 },
 "nbformat": 4,
 "nbformat_minor": 5
}
