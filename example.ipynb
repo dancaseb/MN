{
 "cells": [
  {
   "cell_type": "code",
   "execution_count": 1,
   "metadata": {
    "collapsed": true
   },
   "outputs": [],
   "source": [
    "import numpy as np\n",
    "\n",
    "from kalman import *\n",
    "from animation import Animator\n",
    "%matplotlib tk"
   ]
  },
  {
   "cell_type": "code",
   "execution_count": 2,
   "outputs": [],
   "source": [
    "R = 6400000\n",
    "g = 9.81"
   ],
   "metadata": {
    "collapsed": false
   }
  },
  {
   "cell_type": "code",
   "execution_count": 3,
   "outputs": [],
   "source": [
    "class BasicModel(Model):\n",
    "\n",
    "    def Ak(self, k):\n",
    "        return (np.array([[1, 0, self.D, 0],\n",
    "                          [0, 1, 0, self.D],\n",
    "                          [0, 0, 1, 0],\n",
    "                          [0, 0, 0, 1]]))\n",
    "\n",
    "    def Bk(self, k):\n",
    "        return (np.array([[0, 0],\n",
    "                          [0, 0],\n",
    "                          [self.D, 0],\n",
    "                          [0, self.D]]))\n",
    "\n",
    "    def Hk(self, k):\n",
    "        return (np.array([[1, 0, 0, 0],\n",
    "                          [0, 1, 0, 0]]))\n",
    "\n",
    "    def Qk(self, k):\n",
    "        return 0.01 * np.eye(4)\n",
    "\n",
    "    def Rk(self, k):\n",
    "        return 0.001 * np.eye(2)\n",
    "\n",
    "    def Uk(self, k, **kwargs):\n",
    "        y = kwargs['y']\n",
    "        return np.array([0, -g * (1 - (2 * y / R))])"
   ],
   "metadata": {
    "collapsed": false
   }
  },
  {
   "cell_type": "code",
   "execution_count": 10,
   "outputs": [],
   "source": [
    "class FriendlyMissile(Model):\n",
    "\n",
    "    def Ak(self, k):\n",
    "        return (np.array([[1, 0, self.D, 0],\n",
    "                          [0, 1, 0, self.D],\n",
    "                          [0, 0, 1, 0],\n",
    "                          [0, 0, 0, 1]]))\n",
    "\n",
    "    def Bk(self, k):\n",
    "        return (np.array([[0, 0],\n",
    "                          [0, 0],\n",
    "                          [self.D, 0],\n",
    "                          [0, self.D]]))\n",
    "\n",
    "    def Hk(self, k):\n",
    "        return (np.array([[1, 0, 0, 0],\n",
    "                          [0, 1, 0, 0]]))\n",
    "\n",
    "    def Qk(self, k):\n",
    "        return 0.01 * np.eye(4)\n",
    "\n",
    "    def Rk(self, k):\n",
    "        return 0.001 * np.eye(2)\n",
    "\n",
    "    def Uk(self, k, **kwargs):\n",
    "        return np.array([0, 0])\n"
   ],
   "metadata": {
    "collapsed": false
   }
  },
  {
   "cell_type": "code",
   "execution_count": 5,
   "outputs": [],
   "source": [
    "M2 = BasicModel()\n",
    "M2.set_D(0.1)\n",
    "\n",
    "Friendly = FriendlyMissile()\n",
    "Friendly.set_D(0.1)"
   ],
   "metadata": {
    "collapsed": false
   }
  },
  {
   "cell_type": "code",
   "execution_count": 6,
   "outputs": [],
   "source": [
    "S = Simulation(M2, Friendly, np.array([0,0,0,0]),np.diag([1e6, 1e6, 1e6, 1e6]), np.array([0, 15000, 555, 0]),  np.array([30000, 0, 0, 0]))\n",
    "anim = Animator(S, 1000)\n",
    "anim.start_animation()\n"
   ],
   "metadata": {
    "collapsed": false
   }
  },
  {
   "cell_type": "code",
   "execution_count": 3,
   "outputs": [],
   "source": [
    "kx = 100\n",
    "ky = 200\n",
    "m = 900\n",
    "wind = 20\n",
    "class BasicModel(Model):\n",
    "\n",
    "    def Ak(self, k):\n",
    "        return (np.array([[1, 0, self.D, 0, 0],\n",
    "                          [0, 1, 0, self.D, 0],\n",
    "                          [0, 0, 1, 0, self.D],\n",
    "                          [0, 0, 0, 1, 0],\n",
    "                          [0, 0, 0, 0, 1]]))\n",
    "\n",
    "    def Bk(self, k):\n",
    "        return (np.array([[0, 0],\n",
    "                          [0, 0],\n",
    "                          [self.D, 0],\n",
    "                          [0, self.D],\n",
    "                          [0, 0]]))\n",
    "\n",
    "    def Hk(self, k):\n",
    "        return (np.array([[1, 0, 0, 0,0],\n",
    "                          [0, 1, 0, 0,0]]))\n",
    "\n",
    "    def Qk(self, k):\n",
    "        return 0.01 * np.eye(5)\n",
    "\n",
    "    def Rk(self, k):\n",
    "        return 0.001 * np.eye(2)\n",
    "\n",
    "    def Uk(self, k, **kwargs):\n",
    "        y = kwargs['y']\n",
    "        return np.array([wind, -g * (1 - (2 * y / R))])"
   ],
   "metadata": {
    "collapsed": false
   }
  },
  {
   "cell_type": "code",
   "execution_count": 14,
   "outputs": [
    {
     "name": "stdout",
     "output_type": "stream",
     "text": [
      "None\n"
     ]
    }
   ],
   "source": [
    "M2 = BasicModel()\n",
    "M2.set_D(0.1)\n",
    "# S3 = SystemProjekt(M2, np.array([0, 30000, 555, 0, wind]))\n",
    "# S3.run(20)\n",
    "Friendly = FriendlyMissile()\n",
    "Friendly.set_D(0.1)\n",
    "\n",
    "S = Simulation(M2, Friendly, np.array([0,0,0,0,0]), np.diag([1e6, 1e6, 1e6, 1e6]), np.array([0, 30000, 555, 0, wind]), np.array([30000, 0, 0, 0]))\n",
    "# print(S.system.tracet)"
   ],
   "metadata": {
    "collapsed": false
   }
  },
  {
   "cell_type": "code",
   "execution_count": 12,
   "outputs": [],
   "source": [
    "anim = Animator(S, 100)\n",
    "anim.start_animation()"
   ],
   "metadata": {
    "collapsed": false
   }
  },
  {
   "cell_type": "code",
   "execution_count": null,
   "outputs": [],
   "source": [],
   "metadata": {
    "collapsed": false
   }
  }
 ],
 "metadata": {
  "kernelspec": {
   "display_name": "Python 3",
   "language": "python",
   "name": "python3"
  },
  "language_info": {
   "codemirror_mode": {
    "name": "ipython",
    "version": 2
   },
   "file_extension": ".py",
   "mimetype": "text/x-python",
   "name": "python",
   "nbconvert_exporter": "python",
   "pygments_lexer": "ipython2",
   "version": "2.7.6"
  }
 },
 "nbformat": 4,
 "nbformat_minor": 0
}
