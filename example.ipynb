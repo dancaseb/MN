{
 "cells": [
  {
   "cell_type": "code",
   "execution_count": 44,
   "metadata": {
    "collapsed": true
   },
   "outputs": [],
   "source": [
    "from kalman import *\n",
    "from animation import Animator\n",
    "import matplotlib.pyplot as plt\n",
    "%matplotlib tk"
   ]
  },
  {
   "cell_type": "markdown",
   "source": [
    "Konstanty. g je gravitační zrychlení a R je poloměr Země."
   ],
   "metadata": {
    "collapsed": false
   }
  },
  {
   "cell_type": "code",
   "execution_count": 15,
   "outputs": [],
   "source": [
    "R = 6371000\n",
    "g = 9.81"
   ],
   "metadata": {
    "collapsed": false
   }
  },
  {
   "cell_type": "markdown",
   "source": [
    "Nejprve ukážeme model, ve kterém působí pouze gravitační síla."
   ],
   "metadata": {
    "collapsed": false
   }
  },
  {
   "cell_type": "code",
   "execution_count": 20,
   "outputs": [],
   "source": [
    "class MissileModel1(ModelProjekt):\n",
    "\n",
    "    def Ak(self, k, **kwargs):\n",
    "        return (np.array([[1, 0, self.D, 0],\n",
    "                          [0, 1, 0, self.D],\n",
    "                          [0, 0, 1, 0],\n",
    "                          [0, 0, 0, 1]]))\n",
    "\n",
    "    def Bk(self, k):\n",
    "        return (np.array([[0, 0],\n",
    "                          [0, 0],\n",
    "                          [self.D, 0],\n",
    "                          [0, self.D]]))\n",
    "\n",
    "    def Hk(self, k):\n",
    "        return (np.array([[1, 0, 0, 0],\n",
    "                          [0, 1, 0, 0]]))\n",
    "\n",
    "    def Qk(self, k):\n",
    "        return 0.01 * np.eye(4)\n",
    "\n",
    "    def Rk(self, k):\n",
    "        return 0.001 * np.eye(2)\n",
    "\n",
    "    def Uk(self, k, **kwargs):\n",
    "        y = kwargs['y']\n",
    "        return np.array([0, -g * (1 - (2 * y / R))])"
   ],
   "metadata": {
    "collapsed": false
   }
  },
  {
   "cell_type": "code",
   "execution_count": 24,
   "outputs": [],
   "source": [
    "class FriendlyMissile1(Model):\n",
    "\n",
    "    def Ak(self, k, **kwargs):\n",
    "        return (np.array([[1, 0, self.D, 0],\n",
    "                          [0, 1, 0, self.D],\n",
    "                          [0, 0, 1, 0],\n",
    "                          [0, 0, 0, 1]]))\n",
    "\n",
    "    def Bk(self, k):\n",
    "        return (np.array([[0, 0],\n",
    "                          [0, 0],\n",
    "                          [self.D, 0],\n",
    "                          [0, self.D]]))\n",
    "\n",
    "    def Hk(self, k):\n",
    "        return (np.array([[1, 0, 0, 0],\n",
    "                          [0, 1, 0, 0]]))\n",
    "\n",
    "    def Qk(self, k):\n",
    "        return 0.01 * np.eye(4)\n",
    "\n",
    "    def Rk(self, k):\n",
    "        return 0.001 * np.eye(2)\n",
    "\n",
    "    def Uk(self, k, **kwargs):\n",
    "        return np.array([0, 0])\n"
   ],
   "metadata": {
    "collapsed": false
   }
  },
  {
   "cell_type": "markdown",
   "source": [
    "Nastavíme délku časového kroku."
   ],
   "metadata": {
    "collapsed": false
   }
  },
  {
   "cell_type": "code",
   "execution_count": 25,
   "outputs": [],
   "source": [
    "Missile1 = MissileModel1()\n",
    "Missile1.set_D(0.1)\n",
    "Friendly = FriendlyMissile1()\n",
    "Friendly.set_D(0.1)"
   ],
   "metadata": {
    "collapsed": false
   }
  },
  {
   "cell_type": "markdown",
   "source": [
    "Vytvoříme instanci třídy Simulation. Ta nám bude simulovat pohyb bomby, protibombového systému a samotnou predikci polohy bomby"
   ],
   "metadata": {
    "collapsed": false
   }
  },
  {
   "cell_type": "code",
   "execution_count": 26,
   "outputs": [],
   "source": [
    "S = Simulation(Missile1, Friendly, np.array([0,0,0,0]),np.diag([1e6, 1e6, 1e6, 1e6]), np.array([0, 15000, 555, 0]),  np.array([30000, 0, 0, 0]))\n",
    "anim = Animator(S, 1000)\n",
    "anim.start_animation()\n"
   ],
   "metadata": {
    "collapsed": false
   }
  },
  {
   "cell_type": "markdown",
   "source": [
    "Na bombu bude působit vítr. Navíc budeme brát v potaz odpor vzduchu ve směru os x a y."
   ],
   "metadata": {
    "collapsed": false
   }
  },
  {
   "cell_type": "code",
   "execution_count": 64,
   "outputs": [],
   "source": [
    "wind = 25\n",
    "\n",
    "class MissileModel2(Model):\n",
    "\n",
    "    kx = 10\n",
    "    ky = 10\n",
    "    m = 2000\n",
    "\n",
    "\n",
    "    def Ak(self, k, **kwargs):\n",
    "        return (np.array([[1, 0, self.D, 0, 0],\n",
    "                          [0, 1, 0, self.D, 0],\n",
    "                          [0, 0, 1 - (self.kx/self.m)*self.D, 0, (self.kx/self.m)*self.D],\n",
    "                          [0, 0, 0, 1 - (self.ky/self.m)*self.D, 0],\n",
    "                          [0, 0, 0, 0, 1]]))\n",
    "\n",
    "    def Bk(self, k):\n",
    "        return (np.array([[0, 0],\n",
    "                          [0, 0],\n",
    "                          [self.D, 0],\n",
    "                          [0, self.D],\n",
    "                          [0, 0]]))\n",
    "\n",
    "    def Hk(self, k):\n",
    "        return (np.array([[1, 0, 0, 0, 0],\n",
    "                          [0, 1, 0, 0, 0]]))\n",
    "\n",
    "    def Qk(self, k):\n",
    "        Q = 0.01 * np.eye(5)\n",
    "        Q[4,4] = 0.5\n",
    "        return Q\n",
    "\n",
    "    def Rk(self, k):\n",
    "        return 400 * np.eye(2)\n",
    "\n",
    "    def Uk(self, k, **kwargs):\n",
    "        y = kwargs['y']\n",
    "        return np.array([0, -g * (1 - (2 * y / R))])"
   ],
   "metadata": {
    "collapsed": false
   }
  },
  {
   "cell_type": "code",
   "execution_count": 65,
   "outputs": [],
   "source": [
    "Missile2 = MissileModel2()\n",
    "Missile2.set_D(0.1)\n",
    "Friendly = FriendlyMissile1()\n",
    "Friendly.set_D(0.1)\n",
    "\n",
    "S = Simulation(enemy_missile=Missile2, friendly_missile=Friendly, mu0=np.array([-10000, 20000, 200, 0, 0]),\n",
    "               sigma0=np.diag([1e6, 1e6, 1e6, 1e6, 1e6]), system_x0=np.array([0, 8000, 555, 0, wind]),\n",
    "               fr_system_x0=np.array([20000, 0, 0, 0]))\n",
    "anim = Animator(S, 10000)\n",
    "anim.start_animation()"
   ],
   "metadata": {
    "collapsed": false
   }
  },
  {
   "cell_type": "code",
   "execution_count": 66,
   "outputs": [
    {
     "data": {
      "text/plain": "Text(0.5, 0, '$t$')"
     },
     "execution_count": 66,
     "metadata": {},
     "output_type": "execute_result"
    }
   ],
   "source": [
    "plt.figure(figsize=(20, 10))\n",
    "plt.subplot(221)\n",
    "plt.plot(S.system.tracex[:, 0], S.system.tracex[:, 1])\n",
    "plt.xlabel('$x$')\n",
    "plt.ylabel('$y$')\n",
    "\n",
    "plt.subplot(223)\n",
    "plt.plot(S.system.tracet, S.system.tracex[:, 2])\n",
    "plt.ylabel('$v_x$')\n",
    "plt.xlabel('$t$')\n",
    "\n",
    "plt.subplot(224)\n",
    "plt.plot(S.system.tracet, S.system.tracex[:, 3])\n",
    "plt.ylabel('$v_y$')\n",
    "plt.xlabel('$t$')\n",
    "\n",
    "plt.subplot(222)\n",
    "plt.plot(S.system.tracet, S.system.tracex[:, 4])\n",
    "plt.ylabel('$u$')\n",
    "plt.xlabel('$t$')"
   ],
   "metadata": {
    "collapsed": false
   }
  },
  {
   "cell_type": "markdown",
   "source": [
    "Představme si situaci, kdy chceme zvýšit dolet bomby. Existují tzv. klouzavé bomby, kterým se po vypuštění z bombardéru roztáhnou křídla. Na křídla působí vztlaková síla a odpor vzduchu ve směru osy y je větší. Ukážeme si dva modely a v obou budeme měnit koeficient odporu vzduchu. Křídla bomby jsou ve statické poloze (nijak se nenaklání) a tudíž koeficient odporu se mění v závislosti na úhlu, které svírají mezi sebou složky rychlost vx a vy. Čím větší úhel mezi nimi (to znamená, že bomba klesá strměji), tím menší bude odpor. V každé iteraci vzpočteme koeficient odporu vzduchu."
   ],
   "metadata": {
    "collapsed": false
   }
  },
  {
   "cell_type": "code",
   "execution_count": 83,
   "outputs": [],
   "source": [
    "wind = 2\n",
    "koeficient_y = 15 # a 15\n",
    "bomb_x = 0 #  pozice bomby na zacatku v ose x\n",
    "class MissileModel3(Model):\n",
    "\n",
    "    kx = 10\n",
    "    ky = 0\n",
    "    m = 2000\n",
    "\n",
    "\n",
    "    def Ak(self, k, **kwargs):\n",
    "        vy = kwargs['vy']\n",
    "        vx = kwargs['vx']\n",
    "        # print(ky)\n",
    "        self.ky = 50 + (1/(np.arctan(abs(vy+0.001) / abs(vx+0.001))))*koeficient_y\n",
    "\n",
    "        return (np.array([[1, 0, self.D, 0, 0],\n",
    "                          [0, 1, 0, self.D, 0],\n",
    "                          [0, 0, 1 - (self.kx/self.m)*self.D, 0, (self.kx/self.m)*self.D],\n",
    "                          [0, 0, 0, 1 - (self.ky/self.m)*self.D, 0],\n",
    "                          [0, 0, 0, 0, 1]]))\n",
    "\n",
    "    def Bk(self, k):\n",
    "        return (np.array([[0, 0],\n",
    "                          [0, 0],\n",
    "                          [self.D, 0],\n",
    "                          [0, self.D],\n",
    "                          [0, 0]]))\n",
    "\n",
    "    def Hk(self, k):\n",
    "        return (np.array([[1, 0, 0, 0, 0],\n",
    "                          [0, 1, 0, 0, 0]]))\n",
    "\n",
    "    def Qk(self, k):\n",
    "        Q = 0.01 * np.eye(5)\n",
    "        Q[4,4] = 0.5\n",
    "        return Q\n",
    "\n",
    "    def Rk(self, k):\n",
    "        return 400 * np.eye(2)\n",
    "\n",
    "    def Uk(self, k, **kwargs):\n",
    "        y = kwargs['y']\n",
    "\n",
    "\n",
    "        return np.array([0, -g * (1 - (2 * y / R))])\n"
   ],
   "metadata": {
    "collapsed": false
   }
  },
  {
   "cell_type": "code",
   "execution_count": 84,
   "outputs": [],
   "source": [
    "Missile3 = MissileModel3()\n",
    "Missile3.set_D(0.1)\n",
    "Friendly = FriendlyMissile1()\n",
    "Friendly.set_D(0.1)"
   ],
   "metadata": {
    "collapsed": false
   }
  },
  {
   "cell_type": "code",
   "execution_count": 85,
   "outputs": [],
   "source": [
    "S = Simulation(enemy_missile=Missile3, friendly_missile=Friendly, mu0=np.array([-10000, 20000, 200, 0, 0]),\n",
    "               sigma0=np.diag([1e6, 1e6, 1e6, 1e6, 1e6]), system_x0=np.array([bomb_x, 8000, 555, 0, wind]),\n",
    "               fr_system_x0=np.array([26000, 0, 0, 0]))\n",
    "\n",
    "anim = Animator(S, 10000)\n",
    "anim.start_animation()"
   ],
   "metadata": {
    "collapsed": false
   }
  },
  {
   "cell_type": "code",
   "execution_count": 82,
   "outputs": [
    {
     "ename": "TypeError",
     "evalue": "'NoneType' object is not subscriptable",
     "output_type": "error",
     "traceback": [
      "\u001B[1;31m---------------------------------------------------------------------------\u001B[0m",
      "\u001B[1;31mTypeError\u001B[0m                                 Traceback (most recent call last)",
      "Cell \u001B[1;32mIn[82], line 3\u001B[0m\n\u001B[0;32m      1\u001B[0m plt\u001B[38;5;241m.\u001B[39mfigure(figsize\u001B[38;5;241m=\u001B[39m(\u001B[38;5;241m20\u001B[39m, \u001B[38;5;241m10\u001B[39m))\n\u001B[0;32m      2\u001B[0m plt\u001B[38;5;241m.\u001B[39msubplot(\u001B[38;5;241m221\u001B[39m)\n\u001B[1;32m----> 3\u001B[0m plt\u001B[38;5;241m.\u001B[39mplot(\u001B[43mS\u001B[49m\u001B[38;5;241;43m.\u001B[39;49m\u001B[43msystem\u001B[49m\u001B[38;5;241;43m.\u001B[39;49m\u001B[43mtracex\u001B[49m\u001B[43m[\u001B[49m\u001B[43m:\u001B[49m\u001B[43m,\u001B[49m\u001B[43m \u001B[49m\u001B[38;5;241;43m0\u001B[39;49m\u001B[43m]\u001B[49m, S\u001B[38;5;241m.\u001B[39msystem\u001B[38;5;241m.\u001B[39mtracex[:, \u001B[38;5;241m1\u001B[39m])\n\u001B[0;32m      4\u001B[0m plt\u001B[38;5;241m.\u001B[39mxlabel(\u001B[38;5;124m'\u001B[39m\u001B[38;5;124m$x$\u001B[39m\u001B[38;5;124m'\u001B[39m)\n\u001B[0;32m      5\u001B[0m plt\u001B[38;5;241m.\u001B[39mylabel(\u001B[38;5;124m'\u001B[39m\u001B[38;5;124m$y$\u001B[39m\u001B[38;5;124m'\u001B[39m)\n",
      "\u001B[1;31mTypeError\u001B[0m: 'NoneType' object is not subscriptable"
     ]
    }
   ],
   "source": [
    "plt.figure(figsize=(20, 10))\n",
    "plt.subplot(221)\n",
    "plt.plot(S.system.tracex[:, 0], S.system.tracex[:, 1])\n",
    "plt.xlabel('$x$')\n",
    "plt.ylabel('$y$')\n",
    "\n",
    "plt.subplot(223)\n",
    "plt.plot(S.system.tracet, S.system.tracex[:, 2])\n",
    "plt.ylabel('$v_x$')\n",
    "plt.xlabel('$t$')\n",
    "\n",
    "plt.subplot(224)\n",
    "plt.plot(S.system.tracet, S.system.tracex[:, 3])\n",
    "plt.ylabel('$v_y$')\n",
    "plt.xlabel('$t$')\n",
    "\n",
    "plt.subplot(222)\n",
    "plt.plot(S.system.tracet, S.system.tracex[:, 4])\n",
    "plt.ylabel('$u$')\n",
    "plt.xlabel('$t$')"
   ],
   "metadata": {
    "collapsed": false
   }
  },
  {
   "cell_type": "code",
   "execution_count": null,
   "outputs": [],
   "source": [],
   "metadata": {
    "collapsed": false
   }
  }
 ],
 "metadata": {
  "kernelspec": {
   "display_name": "Python 3",
   "language": "python",
   "name": "python3"
  },
  "language_info": {
   "codemirror_mode": {
    "name": "ipython",
    "version": 2
   },
   "file_extension": ".py",
   "mimetype": "text/x-python",
   "name": "python",
   "nbconvert_exporter": "python",
   "pygments_lexer": "ipython2",
   "version": "2.7.6"
  }
 },
 "nbformat": 4,
 "nbformat_minor": 0
}
