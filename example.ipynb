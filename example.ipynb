{
 "cells": [
  {
   "cell_type": "code",
   "execution_count": 1,
   "metadata": {
    "collapsed": true
   },
   "outputs": [],
   "source": [
    "from kalman import *\n",
    "from animation import Animator\n",
    "import matplotlib.pyplot as plt\n",
    "%matplotlib tk"
   ]
  },
  {
   "cell_type": "markdown",
   "source": [
    "Tento projekt byl vypracován do předmětu modely s neurčitostí. Zadáním projektu bylo použití Kálmánova filtru na nějakém systému. V tomto projektu jsem popisoval pohyb bomby vypuštěné z letadla. Takto vypuštěnou bombu jsem popisoval jako vrh vodorovný. Trajektorií je část paraboly s vrcholem v místě vypuštění.\n",
    "\n",
    "Dále jsem vytvořil jednoduchý model protiraketového systému, který má bombu detekovat a následně se pokusit ji sestřelit. Bomba je vypštěna ze zakládny, její rychlost je konstantní.\n",
    "\n",
    "Jak protiraketová střela pozná, kde sestřelit nepřátelskou bombu? Tohoto jsem docílil pomocí Kálmánova filtru. V každém okmžiku predikuji polohu bomby o 200 kroků dopředu. Jakmile se tato predikce dostane na hranici dostřelu protiraketového systému (který jsem stanovil na 5000 m), protiraketový systém vystřelí. Úspěšné sestřelení poznáme tak, že protiraketová střela a bomba jsou od sebe vzdáleny 30 metrů. Protiraketová střela v takové blízkosti exploduje, zničí nepřátelskou bombu a my zaznamenáme úspěšné sestřelení.\n",
    "\n",
    "Připravil jsem několik modelů, popisující různé situace v našem systému."
   ],
   "metadata": {
    "collapsed": false
   }
  },
  {
   "cell_type": "markdown",
   "source": [
    "Zde definuji konstanty. g je gravitační zrychlení a R je poloměr Země."
   ],
   "metadata": {
    "collapsed": false
   }
  },
  {
   "cell_type": "code",
   "execution_count": 2,
   "outputs": [],
   "source": [
    "R = 6371000\n",
    "g = 9.81"
   ],
   "metadata": {
    "collapsed": false
   }
  },
  {
   "cell_type": "markdown",
   "source": [
    "Nejprve ukážeme model, ve kterém působí pouze gravitační síla.\n",
    "Ve všech modelech budeme pozorovat $x,y,v_x,v_y$, kde $x$ je poloha v ose x, $y$ je poloha v ose $y$, $v_x$ je x-ová složka rychlosti, $v_y$ je y-ová složka rychlosti. \\mathit{\\Delta} značí časový krok. Označme $v_x = u$ a $v_y = v$. Platí následující vztahy $$ x_{k+1} = x_{k} + \\mathit{\\Delta} u_k, \\\\ y_{k+1} = y_{k} + \\mathit{\\Delta} v_{k}, \\\\ u_{k+1} = u_k, \\\\ v_{k+1} = v_k - g\\mathit{\\Delta}.$$ Rychlost ve směru osy x je konstantní a ve směru osy y půsoví gravitační síla."
   ],
   "metadata": {
    "collapsed": false
   }
  },
  {
   "cell_type": "code",
   "execution_count": 3,
   "outputs": [],
   "source": [
    "class MissileModel1(ModelProjekt):\n",
    "\n",
    "    def Ak(self, k, **kwargs):\n",
    "        return (np.array([[1, 0, self.D, 0],\n",
    "                          [0, 1, 0, self.D],\n",
    "                          [0, 0, 1, 0],\n",
    "                          [0, 0, 0, 1]]))\n",
    "\n",
    "    def Bk(self, k):\n",
    "        return (np.array([[0, 0],\n",
    "                          [0, 0],\n",
    "                          [self.D, 0],\n",
    "                          [0, self.D]]))\n",
    "\n",
    "    def Hk(self, k):\n",
    "        return (np.array([[1, 0, 0, 0],\n",
    "                          [0, 1, 0, 0]]))\n",
    "\n",
    "    def Qk(self, k):\n",
    "        return 0.01 * np.eye(4)\n",
    "\n",
    "    def Rk(self, k):\n",
    "        return 0.001 * np.eye(2)\n",
    "\n",
    "    def Uk(self, k, **kwargs):\n",
    "        y = kwargs['y']\n",
    "        return np.array([0, -g * (1 - (2 * y / R))])"
   ],
   "metadata": {
    "collapsed": false
   }
  },
  {
   "cell_type": "code",
   "execution_count": 4,
   "outputs": [],
   "source": [
    "class FriendlyMissile1(ModelProjekt):\n",
    "\n",
    "    def Ak(self, k, **kwargs):\n",
    "        return (np.array([[1, 0, self.D, 0],\n",
    "                          [0, 1, 0, self.D],\n",
    "                          [0, 0, 1, 0],\n",
    "                          [0, 0, 0, 1]]))\n",
    "\n",
    "    def Bk(self, k):\n",
    "        return (np.array([[0, 0],\n",
    "                          [0, 0],\n",
    "                          [self.D, 0],\n",
    "                          [0, self.D]]))\n",
    "\n",
    "    def Hk(self, k):\n",
    "        return (np.array([[1, 0, 0, 0],\n",
    "                          [0, 1, 0, 0]]))\n",
    "\n",
    "    def Qk(self, k):\n",
    "        return 0.01 * np.eye(4)\n",
    "\n",
    "    def Rk(self, k):\n",
    "        return 0.001 * np.eye(2)\n",
    "\n",
    "    def Uk(self, k, **kwargs):\n",
    "        return np.array([0, 0])\n"
   ],
   "metadata": {
    "collapsed": false
   }
  },
  {
   "cell_type": "markdown",
   "source": [
    "Nastavíme délku časového kroku."
   ],
   "metadata": {
    "collapsed": false
   }
  },
  {
   "cell_type": "code",
   "execution_count": 5,
   "outputs": [],
   "source": [
    "Missile1 = MissileModel1()\n",
    "Missile1.set_D(0.1)\n",
    "Friendly = FriendlyMissile1()\n",
    "Friendly.set_D(0.1)"
   ],
   "metadata": {
    "collapsed": false
   }
  },
  {
   "cell_type": "markdown",
   "source": [
    "Vytvoříme instanci třídy Simulation. Ta nám bude simulovat pohyb bomby, protibombového systému a samotnou predikci polohy bomby. Musíme spustit animaci, ve které se nám bude počítat simulace"
   ],
   "metadata": {
    "collapsed": false
   }
  },
  {
   "cell_type": "code",
   "execution_count": 6,
   "outputs": [],
   "source": [
    "S = Simulation(enemy_missile=Missile1, friendly_missile=Friendly, mu0=np.array([0,0,0,0]),sigma0=np.diag([1e6, 1e6, 1e6, 1e6]), system_x0=np.array([0, 15000, 555, 0]),  fr_system_x0=np.array([30000, 0, 0, 0]))\n",
    "anim = Animator(S, 1000)\n",
    "anim.start_animation()\n"
   ],
   "metadata": {
    "collapsed": false
   }
  },
  {
   "cell_type": "markdown",
   "source": [
    "V následujícm modelu bude na bombu bude působit vítr. Navíc budeme brát v potaz odpor vzduchu ve směru os x a y. Platí Platí následující vztahy $$ x_{k+1} = x_{k} + \\mathit{\\Delta} u_k, \\\\ y_{k+1} = y_{k} + \\mathit{\\Delta} v_{k}, \\\\ u_{k+1} = u_k - K\\mathit{\\Delta}u_k + K\\mathit{\\Delta}w, \\\\ v_{k+1} = v_k - K\\mathit{\\Delta}v_k - g\\mathit{\\Delta}.$$ Rychlost větru w je náhodná díky kovarianční matice $Q_k$. Odpor vzduchu označíme $k_x$ a $k_y$. $m$ značí hmotnost bomby (2 tuny).\n"
   ],
   "metadata": {
    "collapsed": false
   }
  },
  {
   "cell_type": "code",
   "execution_count": 7,
   "outputs": [],
   "source": [
    "wind = 25\n",
    "\n",
    "class MissileModel2(ModelProjekt):\n",
    "\n",
    "    kx = 30\n",
    "    ky = 20\n",
    "    m = 2000\n",
    "\n",
    "\n",
    "    def Ak(self, k, **kwargs):\n",
    "        return (np.array([[1, 0, self.D, 0, 0],\n",
    "                          [0, 1, 0, self.D, 0],\n",
    "                          [0, 0, 1 - (self.kx/self.m)*self.D, 0, (self.kx/self.m)*self.D],\n",
    "                          [0, 0, 0, 1 - (self.ky/self.m)*self.D, 0],\n",
    "                          [0, 0, 0, 0, 1]]))\n",
    "\n",
    "    def Bk(self, k):\n",
    "        return (np.array([[0, 0],\n",
    "                          [0, 0],\n",
    "                          [self.D, 0],\n",
    "                          [0, self.D],\n",
    "                          [0, 0]]))\n",
    "\n",
    "    def Hk(self, k):\n",
    "        return (np.array([[1, 0, 0, 0, 0],\n",
    "                          [0, 1, 0, 0, 0]]))\n",
    "\n",
    "    def Qk(self, k):\n",
    "        Q = 0.01 * np.eye(5)\n",
    "        Q[4,4] = 0.8\n",
    "        return Q\n",
    "\n",
    "    def Rk(self, k):\n",
    "        return 400 * np.eye(2)\n",
    "\n",
    "    def Uk(self, k, **kwargs):\n",
    "        y = kwargs['y']\n",
    "        return np.array([0, -g * (1 - (2 * y / R))])"
   ],
   "metadata": {
    "collapsed": false
   }
  },
  {
   "cell_type": "code",
   "execution_count": 11,
   "outputs": [],
   "source": [
    "Missile2 = MissileModel2()\n",
    "Missile2.set_D(0.1)\n",
    "Friendly = FriendlyMissile1()\n",
    "Friendly.set_D(0.1)\n",
    "\n",
    "S = Simulation(enemy_missile=Missile2, friendly_missile=Friendly, mu0=np.array([-10000, 20000, 200, 0, 0]),\n",
    "               sigma0=np.diag([1e2, 1e2, 1e2, 1e2, 1e2]), system_x0=np.array([0, 8000, 555, 0, wind]),\n",
    "               fr_system_x0=np.array([20000, 0, 0, 0]))\n",
    "anim = Animator(S, 10000)\n",
    "anim.start_animation()"
   ],
   "metadata": {
    "collapsed": false
   }
  },
  {
   "cell_type": "code",
   "execution_count": 100,
   "outputs": [
    {
     "data": {
      "text/plain": "Text(0.5, 0, '$t$')"
     },
     "execution_count": 100,
     "metadata": {},
     "output_type": "execute_result"
    }
   ],
   "source": [
    "plt.figure(figsize=(20, 10))\n",
    "plt.subplot(221)\n",
    "plt.plot(S.system.tracex[:, 0], S.system.tracex[:, 1])\n",
    "plt.xlabel('$x$')\n",
    "plt.ylabel('$y$')\n",
    "\n",
    "plt.subplot(223)\n",
    "plt.plot(S.system.tracet, S.system.tracex[:, 2])\n",
    "plt.ylabel('$v_x$')\n",
    "plt.xlabel('$t$')\n",
    "\n",
    "plt.subplot(224)\n",
    "plt.plot(S.system.tracet, S.system.tracex[:, 3])\n",
    "plt.ylabel('$v_y$')\n",
    "plt.xlabel('$t$')\n",
    "\n",
    "plt.subplot(222)\n",
    "plt.plot(S.system.tracet, S.system.tracex[:, 4])\n",
    "plt.ylabel('$u$')\n",
    "plt.xlabel('$t$')"
   ],
   "metadata": {
    "collapsed": false
   }
  },
  {
   "cell_type": "markdown",
   "source": [
    "Představme si situaci, kdy chceme zvýšit dolet bomby. Existují tzv. klouzavé bomby, kterým se po vypuštění z bombardéru roztáhnou křídla. Na křídla působí vztlaková síla a odpor vzduchu ve směru osy y je větší. Ukážeme si dva modely a v obou budeme měnit koeficient odporu vzduchu. Křídla bomby jsou ve statické poloze (nijak se nenaklání) a tudíž koeficient odporu se mění v závislosti na úhlu, které svírají mezi sebou složky rychlost vx a vy. Čím větší úhel mezi nimi (to znamená, že bomba klesá strměji), tím menší bude odpor. V každé iteraci vzpočteme koeficient odporu vzduchu."
   ],
   "metadata": {
    "collapsed": false
   }
  },
  {
   "cell_type": "code",
   "execution_count": 110,
   "outputs": [],
   "source": [
    "wind = 2\n",
    "# koeficient_y = 1\n",
    "koeficient_y = 20\n",
    "bomb_x = 0 #  pozice bomby na zacatku v ose x\n",
    "class MissileModel3(ModelProjekt):\n",
    "\n",
    "    kx = 10\n",
    "    ky = 0\n",
    "    m = 2000\n",
    "\n",
    "\n",
    "    def Ak(self, k, **kwargs):\n",
    "        vy = kwargs['vy']\n",
    "        vx = kwargs['vx']\n",
    "        self.ky = 50 + (1/(np.arctan(abs(vy+0.001) / abs(vx+0.001))))*koeficient_y\n",
    "\n",
    "        return (np.array([[1, 0, self.D, 0, 0],\n",
    "                          [0, 1, 0, self.D, 0],\n",
    "                          [0, 0, 1 - (self.kx/self.m)*self.D, 0, (self.kx/self.m)*self.D],\n",
    "                          [0, 0, 0, 1 - (self.ky/self.m)*self.D, 0],\n",
    "                          [0, 0, 0, 0, 1]]))\n",
    "\n",
    "    def Bk(self, k):\n",
    "        return (np.array([[0, 0],\n",
    "                          [0, 0],\n",
    "                          [self.D, 0],\n",
    "                          [0, self.D],\n",
    "                          [0, 0]]))\n",
    "\n",
    "    def Hk(self, k):\n",
    "        return (np.array([[1, 0, 0, 0, 0],\n",
    "                          [0, 1, 0, 0, 0]]))\n",
    "\n",
    "    def Qk(self, k):\n",
    "        Q = 0.01 * np.eye(5)\n",
    "        Q[4,4] = 0.5\n",
    "        return Q\n",
    "\n",
    "    def Rk(self, k):\n",
    "        return 400 * np.eye(2)\n",
    "\n",
    "    def Uk(self, k, **kwargs):\n",
    "        y = kwargs['y']\n",
    "\n",
    "\n",
    "        return np.array([0, -g * (1 - (2 * y / R))])\n"
   ],
   "metadata": {
    "collapsed": false
   }
  },
  {
   "cell_type": "code",
   "execution_count": 111,
   "outputs": [],
   "source": [
    "Missile3 = MissileModel3()\n",
    "Missile3.set_D(0.1)\n",
    "Friendly = FriendlyMissile1()\n",
    "Friendly.set_D(0.1)"
   ],
   "metadata": {
    "collapsed": false
   }
  },
  {
   "cell_type": "code",
   "execution_count": 112,
   "outputs": [],
   "source": [
    "S = Simulation(enemy_missile=Missile3, friendly_missile=Friendly, mu0=np.array([-10000, 20000, 200, 0, 0]),\n",
    "               sigma0=np.diag([1e6, 1e6, 1e6, 1e6, 1e6]), system_x0=np.array([bomb_x, 8000, 555, 0, wind]),\n",
    "               fr_system_x0=np.array([26000, 0, 0, 0]))\n",
    "\n",
    "anim = Animator(S, 10000)\n",
    "anim.start_animation()"
   ],
   "metadata": {
    "collapsed": false
   }
  },
  {
   "cell_type": "code",
   "execution_count": 113,
   "outputs": [
    {
     "data": {
      "text/plain": "Text(0.5, 0, '$t$')"
     },
     "execution_count": 113,
     "metadata": {},
     "output_type": "execute_result"
    }
   ],
   "source": [
    "plt.figure(figsize=(20, 10))\n",
    "plt.subplot(221)\n",
    "plt.plot(S.system.tracex[:, 0], S.system.tracex[:, 1])\n",
    "plt.xlabel('$x$')\n",
    "plt.ylabel('$y$')\n",
    "\n",
    "plt.subplot(223)\n",
    "plt.plot(S.system.tracet, S.system.tracex[:, 2])\n",
    "plt.ylabel('$v_x$')\n",
    "plt.xlabel('$t$')\n",
    "\n",
    "plt.subplot(224)\n",
    "plt.plot(S.system.tracet, S.system.tracex[:, 3])\n",
    "plt.ylabel('$v_y$')\n",
    "plt.xlabel('$t$')\n",
    "\n",
    "plt.subplot(222)\n",
    "plt.plot(S.system.tracet, S.system.tracex[:, 4])\n",
    "plt.ylabel('$u$')\n",
    "plt.xlabel('$t$')"
   ],
   "metadata": {
    "collapsed": false
   }
  }
 ],
 "metadata": {
  "kernelspec": {
   "display_name": "Python 3",
   "language": "python",
   "name": "python3"
  },
  "language_info": {
   "codemirror_mode": {
    "name": "ipython",
    "version": 2
   },
   "file_extension": ".py",
   "mimetype": "text/x-python",
   "name": "python",
   "nbconvert_exporter": "python",
   "pygments_lexer": "ipython2",
   "version": "2.7.6"
  }
 },
 "nbformat": 4,
 "nbformat_minor": 0
}
