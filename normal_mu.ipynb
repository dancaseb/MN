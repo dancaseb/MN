{
 "cells": [
  {
   "cell_type": "markdown",
   "id": "167ae6a3-1358-4e71-a967-57946800d0f2",
   "metadata": {},
   "source": [
    "### Bayesovský odhad střední hodnoty normálního rozdělení se známým rozptylem "
   ]
  },
  {
   "cell_type": "code",
   "execution_count": 1,
   "id": "01df49ab-48ca-4d9c-81fa-a30b6f51176d",
   "metadata": {},
   "outputs": [],
   "source": [
    "import numpy as np\n",
    "from matplotlib import pyplot as plt\n",
    "from scipy.stats import norm"
   ]
  },
  {
   "cell_type": "code",
   "execution_count": null,
   "id": "589402fd-d702-463a-b4c4-68be220b9a2f",
   "metadata": {},
   "outputs": [],
   "source": []
  },
  {
   "cell_type": "code",
   "execution_count": 4,
   "id": "b27f7ecb-cead-486f-b203-a3e989840377",
   "metadata": {},
   "outputs": [],
   "source": [
    "def posterior(mpr, s2pr, s2T, x):\n",
    "    \"\"\"\n",
    "    returns posterior parametes (mean, variance)\n",
    "    mpr: prior mean parameter\n",
    "    s2pr: prior variance parameter\n",
    "    s2T: true variance of data\n",
    "    x: data\n",
    "    \"\"\"\n",
    "    t = len(x) # number of data\n",
    "    s2po = (1./s2pr+t/s2T)**(-1)  # posterior variance\n",
    "    mpo = (mpr/s2pr+np.sum(x)/s2T)*s2po  # posterior mean\n",
    "    return mpo, s2po\n"
   ]
  },
  {
   "cell_type": "code",
   "execution_count": 22,
   "id": "f1b722e3-6867-4a2b-aa4c-e58fa66befdd",
   "metadata": {},
   "outputs": [],
   "source": [
    "mTrue = 5     # true mean\n",
    "s2True = 10   # true variance \n",
    "N = 5    # number of data\n",
    "np.random.seed(220214)\n",
    "data = np.random.normal(mTrue, s2True, size=N) # data\n"
   ]
  },
  {
   "cell_type": "code",
   "execution_count": 24,
   "id": "f079f871-85b6-4a99-ba4b-a9b80687205b",
   "metadata": {},
   "outputs": [
    {
     "data": {
      "text/plain": [
       "[<matplotlib.lines.Line2D at 0x7f99be64e8e0>]"
      ]
     },
     "execution_count": 24,
     "metadata": {},
     "output_type": "execute_result"
    },
    {
     "data": {
      "image/png": "[encoded data removed]",
      "text/plain": [
       "<Figure size 432x288 with 1 Axes>"
      ]
     },
     "metadata": {
      "needs_background": "light"
     },
     "output_type": "display_data"
    }
   ],
   "source": [
    "# parametry normalniho apriorniho rozdeleni\n",
    "mPr  = -5\n",
    "s2Pr = 50  \n",
    "mPo, s2Po = posterior(mPr, s2Pr, s2True, data)\n",
    "\n",
    "xs = np.linspace(-30, 30, 200)\n",
    "plt.figure()\n",
    "plt.plot(xs, norm.pdf(xs, loc=mPr, scale=s2Pr**0.5), 'b')\n",
    "plt.plot(xs, norm.pdf(xs, loc=mPo, scale=s2Po**0.5), 'r')"
   ]
  },
  {
   "cell_type": "code",
   "execution_count": 14,
   "id": "182dc14c-c098-4f4d-af40-03b7e11c239d",
   "metadata": {},
   "outputs": [
    {
     "data": {
      "text/plain": [
       "5.157261621423551"
      ]
     },
     "execution_count": 14,
     "metadata": {},
     "output_type": "execute_result"
    }
   ],
   "source": [
    "mPo"
   ]
  },
  {
   "cell_type": "code",
   "execution_count": 15,
   "id": "9d69973a-b45b-4bfb-b4dd-163c6359e2e3",
   "metadata": {},
   "outputs": [
    {
     "data": {
      "text/plain": [
       "0.009998000399920017"
      ]
     },
     "execution_count": 15,
     "metadata": {},
     "output_type": "execute_result"
    }
   ],
   "source": [
    "s2Po"
   ]
  },
  {
   "cell_type": "code",
   "execution_count": 16,
   "id": "984e5dff-399a-4e0f-82b9-a82bb334bbe3",
   "metadata": {},
   "outputs": [
    {
     "data": {
      "text/plain": [
       "\u001B[0;31mSignature:\u001B[0m \u001B[0mnorm\u001B[0m\u001B[0;34m.\u001B[0m\u001B[0mpdf\u001B[0m\u001B[0;34m(\u001B[0m\u001B[0mx\u001B[0m\u001B[0;34m,\u001B[0m \u001B[0;34m*\u001B[0m\u001B[0margs\u001B[0m\u001B[0;34m,\u001B[0m \u001B[0;34m**\u001B[0m\u001B[0mkwds\u001B[0m\u001B[0;34m)\u001B[0m\u001B[0;34m\u001B[0m\u001B[0;34m\u001B[0m\u001B[0m\n",
       "\u001B[0;31mDocstring:\u001B[0m\n",
       "Probability density function at x of the given RV.\n",
       "\n",
       "Parameters\n",
       "----------\n",
       "x : array_like\n",
       "    quantiles\n",
       "arg1, arg2, arg3,... : array_like\n",
       "    The shape parameter(s) for the distribution (see docstring of the\n",
       "    instance object for more information)\n",
       "loc : array_like, optional\n",
       "    location parameter (default=0)\n",
       "scale : array_like, optional\n",
       "    scale parameter (default=1)\n",
       "\n",
       "Returns\n",
       "-------\n",
       "pdf : ndarray\n",
       "    Probability density function evaluated at x\n",
       "\u001B[0;31mFile:\u001B[0m      ~/.local/lib/python3.8/site-packages/scipy/stats/_distn_infrastructure.py\n",
       "\u001B[0;31mType:\u001B[0m      method\n"
      ]
     },
     "metadata": {},
     "output_type": "display_data"
    }
   ],
   "source": [
    "norm.pdf?"
   ]
  },
  {
   "cell_type": "code",
   "execution_count": null,
   "id": "45c4a5c5-e625-4535-8907-1811d1d4043d",
   "metadata": {},
   "outputs": [],
   "source": []
  }
 ],
 "metadata": {
  "kernelspec": {
   "display_name": "Python 3 (ipykernel)",
   "language": "python",
   "name": "python3"
  },
  "language_info": {
   "codemirror_mode": {
    "name": "ipython",
    "version": 3
   },
   "file_extension": ".py",
   "mimetype": "text/x-python",
   "name": "python",
   "nbconvert_exporter": "python",
   "pygments_lexer": "ipython3",
   "version": "3.8.10"
  }
 },
 "nbformat": 4,
 "nbformat_minor": 5
}
