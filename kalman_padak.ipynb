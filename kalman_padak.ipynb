{
 "cells": [
  {
   "cell_type": "code",
   "execution_count": null,
   "id": "24bc99fa-8833-45b2-bfae-8e237bf5c5e1",
   "metadata": {
    "pycharm": {
     "is_executing": true
    }
   },
   "outputs": [],
   "source": [
    "import numpy as np\n",
    "from matplotlib import pyplot as plt\n",
    "import sys\n",
    "sys.path.append('/home/janek/vsb/vyuka/mn/')\n",
    "from kalman import *"
   ]
  },
  {
   "cell_type": "code",
   "execution_count": null,
   "id": "9ac41e5b-1de7-4675-b288-8a797e4d0fcf",
   "metadata": {},
   "outputs": [],
   "source": [
    "class Model1(Model):\n",
    "    def Ak(self, k):\n",
    "        return(np.array([[1, 0, self.D, 0], \n",
    "                         [0, 1, 0, self.D],\n",
    "                         [0, 0, 1, 0],\n",
    "                         [0, 0, 0, 1]]))\n",
    "    def Bk(self, k):\n",
    "        return(np.array([[0, 0],\n",
    "                         [0, 0],\n",
    "                         [self.D, 0],\n",
    "                         [0, self.D]]))\n",
    "    def Hk(self, k):\n",
    "        return(np.array([[1, 0, 0, 0],\n",
    "                         [0, 1, 0, 0]]))\n",
    "    def Qk(self, k):\n",
    "        return(0.01*np.eye(4))\n",
    "    def Rk(self, k):\n",
    "        return(0.001*np.eye(2))\n",
    "    def Uk(self, k):\n",
    "        return(np.array([0, -9.81]))\n",
    "\n",
    "M1 = Model1()\n",
    "M1.set_D(0.1)\n",
    "S1 = System(M1, np.array([0, 20, 5, 5]))\n",
    "\n",
    "S1.run(20)\n",
    "\n",
    "plt.plot(S1.tracex[:, 0],S1.tracex[:, 1])\n"
   ]
  },
  {
   "cell_type": "code",
   "execution_count": null,
   "id": "3f1e012b",
   "metadata": {},
   "outputs": [],
   "source": [
    "plt.plot(S1.tracex[0:10, 0],S1.tracex[0:10, 1])"
   ]
  },
  {
   "cell_type": "code",
   "execution_count": null,
   "id": "a76d10d0-6b94-433b-8c45-38b7ada02a85",
   "metadata": {},
   "outputs": [],
   "source": [
    "S1.tracex.shape"
   ]
  },
  {
   "cell_type": "code",
   "execution_count": null,
   "id": "fd364a6d-a77b-491a-ae50-a6b371e64397",
   "metadata": {},
   "outputs": [],
   "source": [
    "S1.tracey.shape"
   ]
  },
  {
   "cell_type": "code",
   "execution_count": null,
   "id": "3e467655-9966-4e66-b388-ac572567e8c4",
   "metadata": {},
   "outputs": [],
   "source": [
    "S1.tracet"
   ]
  },
  {
   "cell_type": "code",
   "execution_count": null,
   "id": "b0ed9a43-6a2e-45ca-b555-f2c6094a76c0",
   "metadata": {},
   "outputs": [],
   "source": []
  },
  {
   "cell_type": "code",
   "execution_count": null,
   "id": "7e3d7146-9ff9-47b9-9347-6a1722894f29",
   "metadata": {},
   "outputs": [],
   "source": [
    "Kx = 10\n",
    "Ky = 50\n",
    "vl = 100\n",
    "u = 20\n",
    "h  = 5000\n",
    "m = 100\n",
    "\n",
    "class Model2(Model):\n",
    "    def Ak(self, k):\n",
    "        return(np.array([[1, 0, self.D, 0], \n",
    "                         [0, 1, 0, self.D],\n",
    "                         [0, 0, 1-Kx/m*self.D, 0],\n",
    "                         [0, 0, 0, 1-Ky/m*self.D]]))\n",
    "    def Bk(self, k):\n",
    "        return(np.array([[0, 0],\n",
    "                         [0, 0],\n",
    "                         [Kx/m*self.D, 0],\n",
    "                         [0, self.D]]))\n",
    "    def Hk(self, k):\n",
    "        return(np.array([[1, 0, 0, 0],\n",
    "                         [0, 1, 0, 0]]))\n",
    "    def Qk(self, k):\n",
    "        return(np.eye(4))\n",
    "    def Rk(self, k):\n",
    "        return(np.eye(2))\n",
    "    def Uk(self, k):\n",
    "        return(np.array([u, -9.81]))\n",
    "\n",
    "M2 = Model2()\n",
    "M2.set_D(0.1)\n",
    "S2 = System(M2, np.array([0, h, vl, 0]))\n",
    "\n",
    "S2.run(500)\n",
    "\n",
    "plt.figure(figsize=(20, 5))\n",
    "\n",
    "plt.subplot(131)\n",
    "plt.plot(S2.tracex[:, 0], S2.tracex[:, 1])\n",
    "plt.xlabel('$x$')\n",
    "plt.ylabel('$y$')\n",
    "\n",
    "plt.subplot(132)\n",
    "plt.plot(S2.tracex[:, 2])\n",
    "plt.ylabel('$v_x$')\n",
    "\n",
    "plt.subplot(133)\n",
    "plt.plot(S2.tracex[:, 3])\n",
    "plt.ylabel('$v_y$')\n"
   ]
  },
  {
   "cell_type": "markdown",
   "id": "d3555373-6256-4c37-99dc-55420d2e3839",
   "metadata": {},
   "source": [
    "### proměnlivá horizontální rychlost větru, měření polohy"
   ]
  },
  {
   "cell_type": "code",
   "execution_count": null,
   "id": "9f380c20-4bd9-4308-9d42-84b924938284",
   "metadata": {},
   "outputs": [],
   "source": [
    "Kx = 5\n",
    "Ky = 50\n",
    "vl = 100\n",
    "u = 20\n",
    "h  = 5000\n",
    "m = 100\n",
    "\n",
    "class Model3(Model):\n",
    "    def Ak(self, k):\n",
    "        return(np.array([[1, 0, self.D, 0, 0], \n",
    "                         [0, 1, 0, self.D, 0],\n",
    "                         [0, 0, 1-Kx/m*self.D, 0, Kx/m*self.D],\n",
    "                         [0, 0, 0, 1-Ky/m*self.D, 0],\n",
    "                         [0, 0, 0, 0, 1]]))\n",
    "    def Bk(self, k):\n",
    "        return(np.array([[0, 0],\n",
    "                         [0, 0],\n",
    "                         [self.D, 0],\n",
    "                         [0, self.D],\n",
    "                         [0, 0]]))\n",
    "    def Hk(self, k):\n",
    "        return(np.array([[1, 0, 0, 0, 0],\n",
    "                         [0, 1, 0, 0, 0]]))\n",
    "    def Qk(self, k):\n",
    "        Q = np.zeros([5, 5])\n",
    "        Q[4, 4] = 0.1\n",
    "        return(Q)\n",
    "    def Rk(self, k):\n",
    "        return(1000**2*np.eye(2))\n",
    "    def Uk(self, k):\n",
    "        return(np.array([0, -9.81]))\n",
    "\n",
    "M3 = Model3()\n",
    "M3.set_D(0.5)\n",
    "S3 = System(M3, np.array([0, h, vl, 0, u]))"
   ]
  },
  {
   "cell_type": "code",
   "execution_count": null,
   "id": "b41f784e-4d94-49cb-8db4-a145f0bd219a",
   "metadata": {},
   "outputs": [],
   "source": []
  },
  {
   "cell_type": "code",
   "execution_count": null,
   "id": "6cb4077c-7d8c-46a6-a22b-632d85152d25",
   "metadata": {},
   "outputs": [],
   "source": [
    "plt.figure(figsize=(20, 8))\n",
    "for i in range(10):\n",
    "    S3.reset()\n",
    "    S3.run(500)\n",
    "    plt.plot(S3.tracex[:, 0], S3.tracex[:, 1], 'b', alpha=0.5)\n",
    "plt.xlabel('$x$')\n",
    "plt.ylabel('$y$')"
   ]
  },
  {
   "cell_type": "code",
   "execution_count": null,
   "id": "0c7a2e01-8f79-4ef7-af59-646f079abf0b",
   "metadata": {},
   "outputs": [],
   "source": []
  },
  {
   "cell_type": "code",
   "execution_count": null,
   "id": "870a40a0-d9aa-4b32-80e9-ccb74d2bebc9",
   "metadata": {},
   "outputs": [],
   "source": [
    "S3.reset()\n",
    "S3.run(500)"
   ]
  },
  {
   "cell_type": "code",
   "execution_count": null,
   "id": "d0520fee-4cec-4e68-b0f1-063c8752ff75",
   "metadata": {},
   "outputs": [],
   "source": [
    "plt.figure(figsize=(20, 10))\n",
    "\n",
    "plt.subplot(221)\n",
    "plt.plot(S3.tracex[:, 0], S3.tracex[:, 1])\n",
    "plt.xlabel('$x$')\n",
    "plt.ylabel('$y$')\n",
    "\n",
    "plt.subplot(223)\n",
    "plt.plot(S3.tracet, S3.tracex[:, 2])\n",
    "plt.ylabel('$v_x$')\n",
    "plt.xlabel('$t$')\n",
    "\n",
    "plt.subplot(224)\n",
    "plt.plot(S3.tracet, S3.tracex[:, 3])\n",
    "plt.ylabel('$v_y$')\n",
    "plt.xlabel('$t$')\n",
    "\n",
    "plt.subplot(222)\n",
    "plt.plot(S3.tracet, S3.tracex[:, 4])\n",
    "plt.ylabel('$u$')\n",
    "plt.xlabel('$t$')"
   ]
  },
  {
   "cell_type": "code",
   "execution_count": null,
   "id": "3972e3c0-60a7-4a67-8250-65736eef9d02",
   "metadata": {},
   "outputs": [],
   "source": [
    "mu0 = np.array([1000, 3000, 0, 0, 0])\n",
    "sigma0 = np.diag([1e6, 4e6, 4e4, 1e4, 1e4])\n",
    "F3 = Filtr(S3, mu0, sigma0)"
   ]
  },
  {
   "cell_type": "code",
   "execution_count": null,
   "id": "9fa637c2-f745-43ed-8b51-ee42415c7d19",
   "metadata": {},
   "outputs": [],
   "source": [
    "F3.run()"
   ]
  },
  {
   "cell_type": "code",
   "execution_count": null,
   "id": "cc10a225-d837-4c3a-9c39-36f31dbc5d94",
   "metadata": {},
   "outputs": [],
   "source": [
    "plt.figure(figsize=(20, 8))\n",
    "plt.subplot(111)\n",
    "plt.plot(S3.tracex[:, 0], S3.tracex[:, 1], 'b')\n",
    "plt.plot(S3.tracey[:, 0], S3.tracey[:, 1], 'g.-', alpha=0.5)\n",
    "plt.plot(F3.trace_mu[:, 0], F3.trace_mu[:, 1], 'r')\n",
    "plt.xlabel('$x$')\n",
    "plt.ylabel('$y$')\n",
    "#plt.subplot(212)\n",
    "#plt.plot(S3.tracex[:, 4], S3.tracex[:, 4], 'b')\n"
   ]
  },
  {
   "cell_type": "code",
   "execution_count": null,
   "id": "9f399434-a6ad-405a-89fd-f5ddca81d69c",
   "metadata": {},
   "outputs": [],
   "source": []
  },
  {
   "cell_type": "code",
   "execution_count": null,
   "id": "7e252d9f-674a-4278-bc31-51ee8923f865",
   "metadata": {},
   "outputs": [],
   "source": []
  },
  {
   "cell_type": "code",
   "execution_count": null,
   "id": "529b9204-618e-40a3-818e-66ed4e6d229d",
   "metadata": {},
   "outputs": [],
   "source": []
  },
  {
   "cell_type": "markdown",
   "id": "00378902-155f-472e-8f61-930fe2d87285",
   "metadata": {},
   "source": [
    "### proměnlivá horizontální rychlost větru, měření zrychlení"
   ]
  },
  {
   "cell_type": "code",
   "execution_count": null,
   "id": "58d6ed10-83b5-439f-bf43-3f0f84eed720",
   "metadata": {},
   "outputs": [],
   "source": [
    "Kx = 5\n",
    "Ky = 50\n",
    "vl = 100\n",
    "u = 20\n",
    "h  = 5000\n",
    "m = 100\n",
    "\n",
    "class Model4(Model):\n",
    "    def Ak(self, k):\n",
    "        return(np.array([[1, 0, self.D, 0, 0, 0, 0], \n",
    "                         [0, 1, 0, self.D, 0, 0, 0],\n",
    "                         [0, 0, 1, 0, self.D, 0, 0],\n",
    "                         [0, 0, 0, 1, 0, self.D, 0],\n",
    "                         [0, 0, -Kx/m, 0, 0, 0, Kx/m],\n",
    "                         [0, 0, 0, -Ky/m, 0, 0, 0],\n",
    "                         [0, 0, 0, 0, 0, 0, 1]]))\n",
    "    def Bk(self, k):\n",
    "        return(np.array([[0, 0],\n",
    "                         [0, 0],\n",
    "                         [0, 0],\n",
    "                         [0, 0],\n",
    "                         [1, 0],\n",
    "                         [0, 1],\n",
    "                         [0, 0]]))\n",
    "    def Hk(self, k):\n",
    "        return(np.array([[0, 0, 0, 0, 1, 0, 0],\n",
    "                         [0, 0, 0, 0, 0, 1, 0]]))\n",
    "    def Qk(self, k):\n",
    "        Q = np.zeros([7, 7])\n",
    "        Q[6, 6] = 0.4**2\n",
    "        return(Q)\n",
    "    def Rk(self, k):\n",
    "        return(0.4**2*np.eye(2))\n",
    "    def Uk(self, k):\n",
    "        return(np.array([0, -9.81]))\n",
    "\n",
    "M4 = Model4()\n",
    "M4.set_D(0.2)\n",
    "S4 = System(M4, np.array([0, h, vl, 0, 0, -9.81, u]))"
   ]
  },
  {
   "cell_type": "code",
   "execution_count": null,
   "id": "b57faf60-a351-4d6c-857b-8d098c21b6bd",
   "metadata": {},
   "outputs": [],
   "source": []
  },
  {
   "cell_type": "code",
   "execution_count": null,
   "id": "182f111b-c4d9-47e1-9644-00000923c21f",
   "metadata": {},
   "outputs": [],
   "source": [
    "plt.figure(figsize=(20, 8))\n",
    "for i in range(20):\n",
    "    S4.reset()\n",
    "    S4.run(1250)\n",
    "    plt.plot(S4.tracex[:, 0], S4.tracex[:, 1], 'b', alpha=0.5)\n",
    "plt.xlabel('$x$')\n",
    "plt.ylabel('$y$')"
   ]
  },
  {
   "cell_type": "code",
   "execution_count": null,
   "id": "5b90d9a2-8492-4dd9-9bb4-0823b16d3c46",
   "metadata": {},
   "outputs": [],
   "source": []
  },
  {
   "cell_type": "code",
   "execution_count": null,
   "id": "1b6ff5d2-8f1d-4209-bea5-55ab63588b1f",
   "metadata": {},
   "outputs": [],
   "source": [
    "S4.reset()\n",
    "S4.run(1250)"
   ]
  },
  {
   "cell_type": "code",
   "execution_count": null,
   "id": "df4005ab-308a-4cc1-9a3a-17e8bc821841",
   "metadata": {},
   "outputs": [],
   "source": [
    "plt.figure(figsize=(20, 10))\n",
    "\n",
    "plt.subplot(321)\n",
    "plt.plot(S4.tracex[:, 0], S4.tracex[:, 1])\n",
    "plt.xlabel('$x$')\n",
    "plt.ylabel('$y$')\n",
    "\n",
    "plt.subplot(322)\n",
    "plt.plot(S4.tracet, S4.tracex[:, 6])\n",
    "plt.xlabel('$t$')\n",
    "plt.ylabel('$u$')\n",
    "\n",
    "plt.subplot(323)\n",
    "plt.plot(S4.tracet, S4.tracex[:, 2])\n",
    "plt.ylabel('$v_x$')\n",
    "plt.xlabel('$t$')\n",
    "\n",
    "plt.subplot(324)\n",
    "plt.plot(S4.tracet, S4.tracex[:, 3])\n",
    "plt.ylabel('$v_y$')\n",
    "plt.xlabel('$t$')\n",
    "\n",
    "plt.subplot(325)\n",
    "plt.plot(S4.tracet, S4.tracex[:, 4])\n",
    "plt.ylabel('$a_x$')\n",
    "plt.xlabel('$t$')\n",
    "\n",
    "plt.subplot(326)\n",
    "plt.plot(S4.tracet, S4.tracex[:, 5])\n",
    "plt.ylabel('$a_y$')\n",
    "plt.xlabel('$t$')"
   ]
  },
  {
   "cell_type": "code",
   "execution_count": null,
   "id": "55dc03e6-d2c8-494d-8f77-05e84af99872",
   "metadata": {},
   "outputs": [],
   "source": [
    "mu0 = np.array([0, 5000, vl, 0, 0, -9.81, u])\n",
    "sigma0 = np.diag([1e1, 1e1, 1e1, 1e1, 0, 0, 0])\n",
    "F4 = Filtr(S4, mu0, sigma0)"
   ]
  },
  {
   "cell_type": "code",
   "execution_count": null,
   "id": "23827e8f-c229-4117-8db7-8f81a505de41",
   "metadata": {},
   "outputs": [],
   "source": [
    "F4.run()"
   ]
  },
  {
   "cell_type": "code",
   "execution_count": null,
   "id": "0bd44595-9f59-4abe-a34d-4abbfdac7e1b",
   "metadata": {},
   "outputs": [],
   "source": [
    "plt.figure(figsize=(20, 8))\n",
    "plt.subplot(211)\n",
    "plt.plot(S4.tracex[:, 0], S4.tracex[:, 1], 'b')\n",
    "#plt.plot(S4.tracey[:, 0], S4.tracey[:, 1], 'g', alpha=0.1)\n",
    "plt.plot(F4.trace_mu[:, 0], F4.trace_mu[:, 1], 'r')\n",
    "plt.xlabel('$x$')\n",
    "plt.ylabel('$y$')\n",
    "\n",
    "plt.subplot(212)\n",
    "plt.plot(S4.tracet, S4.tracex[:, 0], 'b')\n",
    "plt.plot(S4.tracet, F4.trace_mu[:, 0], 'r')\n",
    "f0s = F4.trace_sigma[:, 0, 0]**0.5\n",
    "plt.plot(S4.tracet, F4.trace_mu[:, 0]-2*f0s, 'r--')\n",
    "plt.plot(S4.tracet, F4.trace_mu[:, 0]+2*f0s, 'r--')\n",
    "plt.xlabel('$t$')\n",
    "plt.ylabel('$x$')"
   ]
  },
  {
   "cell_type": "code",
   "execution_count": null,
   "id": "a9c4a22c-d487-4078-a3e2-7949df1efdd8",
   "metadata": {},
   "outputs": [],
   "source": []
  },
  {
   "cell_type": "code",
   "execution_count": null,
   "id": "082fa4bd-c02c-463b-a468-37d646dfcce5",
   "metadata": {},
   "outputs": [],
   "source": []
  }
 ],
 "metadata": {
  "kernelspec": {
   "display_name": "Python 3 (ipykernel)",
   "language": "python",
   "name": "python3"
  },
  "language_info": {
   "codemirror_mode": {
    "name": "ipython",
    "version": 3
   },
   "file_extension": ".py",
   "mimetype": "text/x-python",
   "name": "python",
   "nbconvert_exporter": "python",
   "pygments_lexer": "ipython3",
   "version": "3.10.7"
  },
  "widgets": {
   "application/vnd.jupyter.widget-state+json": {
    "state": {},
    "version_major": 2,
    "version_minor": 0
   }
  }
 },
 "nbformat": 4,
 "nbformat_minor": 5
}
